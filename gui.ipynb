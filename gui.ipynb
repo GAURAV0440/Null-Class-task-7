{
 "cells": [
  {
   "cell_type": "code",
   "execution_count": 4,
   "id": "842f9d4c",
   "metadata": {},
   "outputs": [
    {
     "name": "stdout",
     "output_type": "stream",
     "text": [
      "\u001b[1m1/1\u001b[0m \u001b[32m━━━━━━━━━━━━━━━━━━━━\u001b[0m\u001b[37m\u001b[0m \u001b[1m0s\u001b[0m 78ms/step\n"
     ]
    }
   ],
   "source": [
    "# Importing necessary libraries for GUI and deep learning model\n",
    "import cv2\n",
    "import numpy as np\n",
    "import tensorflow as tf\n",
    "from tensorflow import keras\n",
    "from tkinter import Tk, filedialog, Label, Button\n",
    "from PIL import Image, ImageTk\n",
    "\n",
    "# Loading the trained model\n",
    "model = keras.models.load_model(\"car_color_model.keras\")\n",
    "\n",
    "# Defining the color labels\n",
    "color_labels = {0: 'Red', 1: 'Blue', 2: 'Green', 3: 'Yellow', 4: 'Black', 5: 'White', 6: 'Other'}\n",
    "\n",
    "IMG_SIZE = 128\n",
    "\n",
    "\n",
    "# Function to preprocess an image before making predictions\n",
    "def preprocess_image(image_path):\n",
    "    image = cv2.imread(image_path)\n",
    "    image = cv2.resize(image, (IMG_SIZE, IMG_SIZE))\n",
    "    image = cv2.cvtColor(image, cv2.COLOR_BGR2RGB)\n",
    "    image = image / 255.0  # Normalize pixel values\n",
    "    return np.expand_dims(image, axis=0)\n",
    "\n",
    "# Function to predict the color of a car in an image\n",
    "def detect_and_predict(image_path):\n",
    "    image = preprocess_image(image_path)\n",
    "    prediction = model.predict(image)\n",
    "    predicted_label = np.argmax(prediction)\n",
    "    return color_labels[predicted_label]\n",
    "\n",
    "\n",
    "# Function to allow user to upload an image and process it\n",
    "def upload_image():\n",
    "    file_path = filedialog.askopenfilename()\n",
    "    if file_path:\n",
    "        img = Image.open(file_path)\n",
    "        img = img.resize((250, 250))\n",
    "        img_tk = ImageTk.PhotoImage(img)\n",
    "        label_image.config(image=img_tk)\n",
    "        label_image.image = img_tk\n",
    "        \n",
    "        predicted_color = detect_and_predict(file_path)\n",
    "        result_label.config(text=f\"Predicted Car Color: {predicted_color}\", fg=\"blue\")\n",
    "\n",
    "# creating GUI here        \n",
    "root = Tk()\n",
    "root.title(\"Car Color Detector\")  # Setting the title\n",
    "root.geometry(\"400x500\")  # Defining window size\n",
    "\n",
    "btn_upload = Button(root, text=\"Upload Car Image\", command=upload_image, font=(\"Arial\", 12))\n",
    "btn_upload.pack(pady=10)\n",
    "\n",
    "label_image = Label(root)\n",
    "label_image.pack()\n",
    "\n",
    "result_label = Label(root, text=\"Predicted Car Color: \", font=(\"Arial\", 14), fg=\"black\")\n",
    "result_label.pack(pady=10)\n",
    "\n",
    "root.mainloop()  # Keeps the window open\n"
   ]
  },
  {
   "cell_type": "code",
   "execution_count": null,
   "id": "3be7614d",
   "metadata": {},
   "outputs": [],
   "source": []
  }
 ],
 "metadata": {
  "kernelspec": {
   "display_name": "Python 3 (ipykernel)",
   "language": "python",
   "name": "python3"
  },
  "language_info": {
   "codemirror_mode": {
    "name": "ipython",
    "version": 3
   },
   "file_extension": ".py",
   "mimetype": "text/x-python",
   "name": "python",
   "nbconvert_exporter": "python",
   "pygments_lexer": "ipython3",
   "version": "3.11.3"
  }
 },
 "nbformat": 4,
 "nbformat_minor": 5
}
